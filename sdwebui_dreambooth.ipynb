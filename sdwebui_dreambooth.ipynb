{
 "cells": [
  {
   "attachments": {},
   "cell_type": "markdown",
   "metadata": {},
   "source": [
    "[![Open In Colab](https://colab.research.google.com/assets/colab-badge.svg)](https://colab.research.google.com/github/yuyan124/sd_tools/blob/main/sdwebui_dreambooth.ipynb)"
   ]
  },
  {
   "cell_type": "code",
   "execution_count": null,
   "metadata": {},
   "outputs": [],
   "source": [
    "# GPU INFO\n",
    "!nvidia-smi\n",
    "!nvcc -V\n",
    "!free -h"
   ]
  },
  {
   "cell_type": "code",
   "execution_count": null,
   "metadata": {},
   "outputs": [],
   "source": [
    "# 挂载 Google Drive\n",
    "from google.colab import drive\n",
    "drive.mount('/content/drive')"
   ]
  },
  {
   "cell_type": "code",
   "execution_count": null,
   "metadata": {},
   "outputs": [],
   "source": [
    "# 安装python，可选择自己需要的版本\n",
    "!apt-get install python3.10\n",
    "!python -m pip uninstall pips\n",
    "!update-alternatives --install /usr/local/bin/python3 python3 /usr/bin/python3.10 2\n",
    "!sudo apt-get install python3.10-distutils\n",
    "!wget https://bootstrap.pypa.io/pip/get-pip.py\n",
    "!python get-pip.py\n",
    "!python --version"
   ]
  },
  {
   "cell_type": "code",
   "execution_count": null,
   "metadata": {},
   "outputs": [],
   "source": [
    "# 修正Colab从Ubuntu 18.04升级到20.04时出现的奇怪内存行为\n",
    "!wget http://launchpadlibrarian.net/367274644/libgoogle-perftools-dev_2.5-2.2ubuntu3_amd64.deb\n",
    "!wget https://launchpad.net/ubuntu/+source/google-perftools/2.5-2.2ubuntu3/+build/14795286/+files/google-perftools_2.5-2.2ubuntu3_all.deb\n",
    "!wget https://launchpad.net/ubuntu/+source/google-perftools/2.5-2.2ubuntu3/+build/14795286/+files/libtcmalloc-minimal4_2.5-2.2ubuntu3_amd64.deb\n",
    "!wget https://launchpad.net/ubuntu/+source/google-perftools/2.5-2.2ubuntu3/+build/14795286/+files/libgoogle-perftools4_2.5-2.2ubuntu3_amd64.deb\n",
    "!apt install -qq libunwind8-dev\n",
    "!dpkg -i *.deb\n",
    "%env LD_PRELOAD=libtcmalloc.so\n",
    "!rm *.deb\n",
    "\n",
    "# 下载 aira2 xformers\n",
    "!apt-get -y install -qq aria2\n",
    "!pip install --pre -U xformers\n",
    "!pip install -q --pre triton\n",
    "\n",
    "\n",
    "!git clone https://github.com/AUTOMATIC1111/stable-diffusion-webui\n",
    "!git clone https://github.com/yfszzx/stable-diffusion-webui-images-browser /content/stable-diffusion-webui/extensions/stable-diffusion-webui-images-browser\n",
    "!git clone https://github.com/camenduru/stable-diffusion-webui-huggingface /content/stable-diffusion-webui/extensions/stable-diffusion-webui-huggingface\n",
    "!git clone https://github.com/butaixianran/Stable-Diffusion-Webui-Civitai-Helper /content/stable-diffusion-webui/extensions/Stable-Diffusion-Webui-Civitai-Helper\n",
    "!git clone https://github.com/d8ahazard/sd_dreambooth_extension /content/stable-diffusion-webui/extensions/sd_dreambooth_extension\n",
    "!git clone https://github.com/KohakuBlueleaf/a1111-sd-webui-locon /content/stable-diffusion-webui/extensions/a1111-sd-webui-locon\n",
    "!git clone https://github.com/tsukimiya/stable-diffusion-webui-wd14-tagger /content/stable-diffusion-webui/extensions/stable-diffusion-webui-wd14-tagger\n",
    "!git clone https://github.com/camenduru/sd-webui-tunnels /content/stable-diffusion-webui/extensions/sd-webui-tunnels\n",
    "%cd /content/stable-diffusion-webui\n",
    "\n",
    "# --------------------------\n",
    "# models\n",
    "# --------------------------\n",
    "# 解除需要使用的model的注释\n",
    "# chiillmixout v6\n",
    "!aria2c --console-log-level=error -c -x 16 -s 16 -k 1M https://civitai.com/api/download/models/11745 -d /content/stable-diffusion-webui/models/Stable-diffusion -o chilloutmix_NiPrunedFp32Fix.safetensors\n",
    "# realisticVision\n",
    "# !aria2c --console-log-level=error -c -x 16 -s 16 -k 1M https://civitai.com/api/download/models/6987  -d /content/stable-diffusion-webui/models/Stable-diffusion -o realisticVisionV13_v13.safetensors\n",
    "# guofeng3\n",
    "# !aria2c --console-log-level=error -c -x 16 -s 16 -k 1M https://civitai.com/api/download/models/12378  -d /content/stable-diffusion-webui/models/Stable-diffusion -o guofeng3_v32.safetensors\n",
    "\n",
    "# run\n",
    "!python launch.py --xformers --enable-insecure-extension-access --share --gradio-queue\n",
    "\n"
   ]
  }
 ],
 "metadata": {
  "kernelspec": {
   "display_name": "Python 3",
   "language": "python",
   "name": "python3"
  },
  "language_info": {
   "name": "python",
   "version": "3.11.2"
  },
  "orig_nbformat": 4,
  "vscode": {
   "interpreter": {
    "hash": "aee8b7b246df8f9039afb4144a1f6fd8d2ca17a180786b69acc140d282b71a49"
   }
  }
 },
 "nbformat": 4,
 "nbformat_minor": 2
}
