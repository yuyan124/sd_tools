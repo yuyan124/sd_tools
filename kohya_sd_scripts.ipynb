{
 "cells": [
  {
   "attachments": {},
   "cell_type": "markdown",
   "metadata": {},
   "source": [
    "[![Open In Colab](https://colab.research.google.com/assets/colab-badge.svg)](https://colab.research.google.com/github/yuyan124/sd_tools/blob/main/kohya_sd_scripts.ipynb)"
   ]
  },
  {
   "cell_type": "code",
   "execution_count": null,
   "metadata": {},
   "outputs": [],
   "source": [
    "# GPU INFO\n",
    "!nvidia-smi\n",
    "!nvcc -V\n",
    "!free -h"
   ]
  },
  {
   "cell_type": "code",
   "execution_count": null,
   "metadata": {},
   "outputs": [],
   "source": [
    "#@title 更新python到3.10\n",
    "!apt-get install python3.10\n",
    "!python -m pip uninstall pips\n",
    "!update-alternatives --install /usr/local/bin/python3 python3 /usr/bin/python3.10 2\n",
    "!sudo apt-get install python3.10-distutils\n",
    "!wget https://bootstrap.pypa.io/pip/get-pip.py\n",
    "!python get-pip.py\n",
    "!python --version"
   ]
  },
  {
   "cell_type": "code",
   "execution_count": null,
   "metadata": {},
   "outputs": [],
   "source": [
    "#@title Clone sd-scripts, 安装依赖，下载模型\n",
    "#@markdown ## 模型的路径是/content/models/model.ckpt\n",
    "!git clone https://github.com/kohya-ss/sd-scripts.git\n",
    "%cd sd-scripts \n",
    "!pip install --upgrade -r requirements.txt \n",
    "\n",
    "!apt-get -y install -qq aria2\n",
    "!pip install --pre -U xformers\n",
    "!pip install -q --pre triton\n",
    "\n",
    "# 底模型下载，根据需要下载自己的底模型\n",
    "!aria2c --console-log-level=error -c -x 16 -s 16 -k 1M https://civitai.com/api/download/models/11745 -d /content/models -o model.safetensors"
   ]
  },
  {
   "cell_type": "code",
   "execution_count": null,
   "metadata": {},
   "outputs": [],
   "source": [
    "#@title # 挂载 Google Drive\n",
    "from google.colab import drive\n",
    "drive.mount('/content/drive')"
   ]
  },
  {
   "cell_type": "code",
   "execution_count": null,
   "metadata": {},
   "outputs": [],
   "source": [
    "#@markdown # 训练参数设置\n",
    "#@markdown **底模型路径**\n",
    "pretrained_model = \"/content/models/model.safetensors\" #@param {type:\"string\"}\n",
    "#@markdown **训练数据集路径**\n",
    "train_data_dir = \"/content/drive/MyDrive/ai/\" #@param {type:\"string\"}\n",
    "\n",
    "#@markdown ---\n",
    "#@markdown ## 输出设置\n",
    "#@markdown **模型保存名称**\n",
    "output_name=\"\" #@param {type:\"string\"}\n",
    "#@markdown **模型输出路径** \n",
    "output_dir = \"/content/drive/MyDrive/ai/outputs/\" #@param {type:\"string\"}\n",
    "#@markdown **模型保存格式** \n",
    "save_model_as=\"safetensors\" #@param [\"ckpt\", \"pt\", \"safetensors\"]\n",
    "\n",
    "#@markdown ---\n",
    "#@markdown ## 训练相关参数\n",
    "#@markdown **图片分辨率，支持非正方形，但必须是 64 倍数**\n",
    "resolution=\"512,512\" #@param {type:\"string\"}\n",
    "#@markdown **batch size**\n",
    "batch_size=1 #@param {type:\"number\"}\n",
    "#@markdown **最大训练 epoch**\n",
    "max_train_epoches=10 #@param {type:\"number\"}\n",
    "#@markdown **每N个 epoch 保存一次**\n",
    "save_every_n_epochs=2 #@param {type:\"number\"}\n",
    "#@markdown **network dim 常用 4~128，不是越大越好**\n",
    "network_dim=128 #@param {type:\"number\"}\n",
    "#@markdown **network alpha**\n",
    "# 用于控制network dim的权重，通常是network_dim的一半 防止下溢。默认值为 1，使用较小的 alpha 需要提升学习率。\n",
    "network_alpha=64 #@param {type:\"number\"}\n",
    "clip_skip=2 # 一般用 2\n",
    "#@markdown **仅训练 unet，开启这个会牺牲效果大幅减少显存使用。6G显存可以开启**\n",
    "train_unet_only=0 #@param {type:\"number\"}\n",
    "#@markdown **仅训练 文本编码器**\n",
    "train_text_encoder_only=0 #@param {type:\"number\"}\n",
    "#@markdown **seed，跑测试使用**\n",
    "seed=\"1123\" #@param {type:\"string\"}\n",
    "#@markdown **noise_offset (0-1)**\n",
    "noise_offset=\"0.1\" #@param {type:\"string\"}\n",
    "\n",
    "#@markdown ---\n",
    "#@markdown ## Learning rate \n",
    "#@markdown **学习率**\n",
    "lr=\"6e-5\" #@param {type:\"string\"}\n",
    "#@markdown **unet 学习率**\n",
    "unet_lr=\"6e-5\" #@param {type:\"string\"}\n",
    "#@markdown **text encoder 学习率**\n",
    "text_encoder_lr=\"7e-6\" #@param {type:\"string\"}\n",
    "# \n",
    "lr_scheduler=\"cosine_with_restarts\" #@param [\"linear\", \"cosine\", \"cosine_with_restarts\", \"polynomial\", \"constant\", \"constant_with_warmup\"]\n",
    "#@markdown **仅在 lr_scheduler 为 constant_with_warmup 时需要填写这个值**\n",
    "lr_warmup_steps=0 #@param {type:\"number\"}\n",
    "#@markdown **余弦退火重启次数,仅在 lr_scheduler 为 cosine_with_restarts 时起效。** \n",
    "lr_restart_cycles=1 #@param {type:\"number\"}\n",
    "\n",
    "#@markdown ---\n",
    "#@markdown ## 其他设置\n",
    "#@markdown **若需要从已有的 LoRA 模型上继续训练，请填写 LoRA 模型路径。**\n",
    "network_weights=\"\" #@param {type:\"string\"}\n",
    "#@markdown **arb 最小分辨率**\n",
    "min_bucket_reso=256 #@param {type:\"number\"}\n",
    "#@markdown **arb 最大分辨率**\n",
    "max_bucket_reso=1024 #@param {type:\"number\"}\n",
    "persistent_data_loader_workers=0 # 容易爆内存，保留加载训练集的worker，减少每个 epoch 之间的停顿\n",
    "\n",
    "# 优化器设置\n",
    "# lr=\"1e-4\" unet_lr=\"1e-4\" text_encoder_lr=\"1e-5\"\n",
    "use_8bit_adam=0 # 使用 8bit adam 优化器节省显存，默认启用。部分 10 系老显卡无法使用，修改为 0 禁用。\n",
    "use_lion=1 # 使用 Lion 优化器"
   ]
  },
  {
   "cell_type": "code",
   "execution_count": null,
   "metadata": {},
   "outputs": [],
   "source": [
    "%cd /content/sd-scripts/\n",
    "!accelerate launch --num_cpu_threads_per_process=8 \"train_network.py\" \\\n",
    "  --enable_bucket \\\n",
    "  --pretrained_model=$pretrained_model \\\n",
    "  --train_data_dir=$train_data_dir \\\n",
    "  --output_dir=$output_dir \\\n",
    "  --logging_dir=\"./logs\" \\\n",
    "  --resolution=$resolution \\\n",
    "  --network_module=networks.lora \\\n",
    "  --max_train_epochs=$max_train_epoches \\\n",
    "  --learning_rate=$lr \\no\n",
    "  --unet_lr=$unet_lr \\\n",
    "  --text_encoder_lr=$text_encoder_lr \\\n",
    "  --lr_scheduler=$lr_scheduler \\\n",
    "  --lr_warmup_steps=$lr_warmup_steps \\\n",
    "  --lr_scheduler_num_cycles=$lr_restart_cycles \\\n",
    "  --network_dim=$network_dim \\\n",
    "  --network_alpha=$network_alpha \\\n",
    "  --output_name=$output_name \\\n",
    "  --train_batch_size=$batch_size \\\n",
    "  --save_every_n_epochs=$save_every_n_epochs \\\n",
    "  --mixed_precision=\"fp16\" \\\n",
    "  --save_precision=\"fp16\" \\\n",
    "  --seed=$seed \\\n",
    "  --noise_offset=$noise_offset \\\n",
    "  --cache_latents \\\n",
    "  --clip_skip=$clip_skip \\\n",
    "  --prior_loss_weight=1 \\\n",
    "  --max_token_length=225 \\\n",
    "  --caption_extension=\".txt\" \\\n",
    "  --save_model_as=$save_model_as \\\n",
    "  --min_bucket_reso=$min_bucket_reso \\\n",
    "  --max_bucket_reso=$max_bucket_reso \\\n",
    "  --xformers --shuffle_caption \n",
    "  --use_8bit_adam\n",
    "  # --use_lion_optimizer"
   ]
  }
 ],
 "metadata": {
  "kernelspec": {
   "display_name": "Python 3",
   "language": "python",
   "name": "python3"
  },
  "language_info": {
   "name": "python",
   "version": "3.9.13"
  },
  "orig_nbformat": 4,
  "vscode": {
   "interpreter": {
    "hash": "aee8b7b246df8f9039afb4144a1f6fd8d2ca17a180786b69acc140d282b71a49"
   }
  }
 },
 "nbformat": 4,
 "nbformat_minor": 2
}
