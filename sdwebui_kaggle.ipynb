{
 "cells": [
  {
   "cell_type": "code",
   "execution_count": null,
   "metadata": {},
   "outputs": [],
   "source": [
    "!nvidia-smi\n",
    "!nvcc -V\n",
    "!free -h\n",
    "!python --version"
   ]
  },
  {
   "cell_type": "code",
   "execution_count": null,
   "metadata": {},
   "outputs": [],
   "source": [
    "!conda create -n sdwebui python==3.10.6 -y \n",
    "!source /opt/conda/bin/activate sdwebui && conda install -c sdwebui python -y\n",
    "!sudo rm /opt/conda/bin/python3\n",
    "!sudo ln -sf /opt/conda/envs/sdwebui/bin/python3 /opt/conda/bin/python3\n",
    "!sudo rm /opt/conda/bin/python3.7\n",
    "!sudo ln -sf /opt/conda/envs/sdwebui/bin/python3 /opt/conda/bin/python3.7\n",
    "!sudo rm /opt/conda/bin/python\n",
    "!sudo ln -s /opt/conda/envs/sdwebui/bin/python3 /opt/conda/bin/python\n",
    "!python --version"
   ]
  },
  {
   "cell_type": "code",
   "execution_count": null,
   "metadata": {},
   "outputs": [],
   "source": [
    "!apt -y update -qq\n",
    "!apt -y install -qq aria2\n",
    "!pip install -q torch==1.13.1+cu117 torchvision==0.14.1+cu117 -f https://download.pytorch.org/whl/torch_stable.html\n",
    "!pip install -q --pre xformers==0.0.16\n",
    "!pip install -q --pre triton"
   ]
  },
  {
   "cell_type": "markdown",
   "metadata": {},
   "source": []
  },
  {
   "cell_type": "code",
   "execution_count": null,
   "metadata": {},
   "outputs": [],
   "source": [
    "!git clone https://github.com/AUTOMATIC1111/stable-diffusion-webui\n",
    "!git clone https://github.com/yfszzx/stable-diffusion-webui-images-browser /kaggle/working/stable-diffusion-webui/extensions/stable-diffusion-webui-images-browser\n",
    "!git clone https://github.com/camenduru/stable-diffusion-webui-huggingface /kaggle/working/stable-diffusion-webui/extensions/stable-diffusion-webui-huggingface\n",
    "!git clone https://github.com/butaixianran/Stable-Diffusion-Webui-Civitai-Helper /kaggle/working/stable-diffusion-webui/extensions/Stable-Diffusion-Webui-Civitai-Helper\n",
    "!git clone https://github.com/kohya-ss/sd-webui-additional-networks /kaggle/working/stable-diffusion-webui/extensions/sd-webui-additional-networks\n",
    "!git clone https://github.com/KohakuBlueleaf/a1111-sd-webui-locon /kaggle/working/stable-diffusion-webui/extensions/a1111-sd-webui-locon\n",
    "!git clone https://github.com/tsukimiya/stable-diffusion-webui-wd14-tagger /kaggle/working/stable-diffusion-webui/extensions/stable-diffusion-webui-wd14-tagger\n",
    "!git clone https://github.com/DominikDoom/a1111-sd-webui-tagcomplete /kaggle/working/stable-diffusion-webui/extensions/a1111-sd-webui-tagcomplete\n",
    "!git clone https://github.com/Mikubill/sd-webui-controlnet /kaggle/working/stable-diffusion-webui/extensions/sd-webui-controlnet\n",
    "!git clone https://github.com/hnmr293/posex /kaggle/working/stable-diffusion-webui/extensions/posex\n",
    "!git clone https://github.com/jexom/sd-webui-depth-lib /kaggle/working/stable-diffusion-webui/extensions/sd-webui-depth-lib\n",
    "!git clone https://github.com/hnmr293/sd-webui-cutoff /kaggle/working/stable-diffusion-webui/extensions/sd-webui-cutoff\n",
    "!git clone https://github.com/opparco/stable-diffusion-webui-composable-lora /kaggle/working/stable-diffusion-webui/extensions/stable-diffusion-webui-composable-lora\n",
    "!git clone https://github.com/ashen-sensored/stable-diffusion-webui-two-shot /kaggle/working/stable-diffusion-webui/extensions/stable-diffusion-webui-two-shot\n",
    "!git clone https://github.com/hako-mikan/sd-webui-lora-block-weight /kaggle/working/stable-diffusion-webui/extensions/sd-webui-lora-block-weight\n",
    "\n",
    "\n",
    "%cd /kaggle/working/stable-diffusion-webui/\n",
    "\n",
    "!aria2c --console-log-level=error -c -x 16 -s 16 -k 1M https://civitai.com/api/download/models/11745 -d /kaggle/working/stable-diffusion-webui/models/Stable-diffusion -o chilloutmix_NiPrunedFp32Fix.safetensors\n",
    "# EasyNegative\n",
    "!aria2c --console-log-level=error -c -x 16 -s 16 -k 1M https://civitai.com/api/download/models/9208 -d /kaggle/working/stable-diffusion-webui/models/embeddings -o easynegative.safetensors\n",
    "\n",
    "\n",
    "!aria2c --console-log-level=error -c -x 16 -s 16 -k 1M https://huggingface.co/webui/ControlNet-modules-safetensors/resolve/main/control_canny-fp16.safetensors -d /kaggle/working/stable-diffusion-webui/models/ControlNet -o control_canny-fp16.safetensors\n",
    "!aria2c --console-log-level=error -c -x 16 -s 16 -k 1M https://huggingface.co/webui/ControlNet-modules-safetensors/resolve/main/control_depth-fp16.safetensors -d /kaggle/working/stable-diffusion-webui/models/ControlNet -o control_depth-fp16.safetensors\n",
    "!aria2c --console-log-level=error -c -x 16 -s 16 -k 1M https://huggingface.co/webui/ControlNet-modules-safetensors/resolve/main/control_hed-fp16.safetensors -d /kaggle/working/stable-diffusion-webui/models/ControlNet -o control_hed-fp16.safetensors\n",
    "!aria2c --console-log-level=error -c -x 16 -s 16 -k 1M https://huggingface.co/webui/ControlNet-modules-safetensors/resolve/main/control_mlsd-fp16.safetensors -d /kaggle/working/stable-diffusion-webui/models/ControlNet -o control_mlsd-fp16.safetensors\n",
    "!aria2c --console-log-level=error -c -x 16 -s 16 -k 1M https://huggingface.co/webui/ControlNet-modules-safetensors/resolve/main/control_openpose-fp16.safetensors -d /kaggle/working/stable-diffusion-webui/models/ControlNet -o control_openpose-fp16.safetensors\n",
    "!aria2c --console-log-level=error -c -x 16 -s 16 -k 1M https://huggingface.co/webui/ControlNet-modules-safetensors/resolve/main/control_scribble-fp16.safetensors -d /kaggle/working/stable-diffusion-webui/models/ControlNet -o control_scribble-fp16.safetensors\n",
    "!aria2c --console-log-level=error -c -x 16 -s 16 -k 1M https://huggingface.co/webui/ControlNet-modules-safetensors/resolve/main/control_seg-fp16.safetensors -d /kaggle/working/stable-diffusion-webui/models/ControlNet -o control_seg-fp16.safetensors\n"
   ]
  },
  {
   "cell_type": "code",
   "execution_count": null,
   "metadata": {},
   "outputs": [],
   "source": [
    "!cp -r /kaggle/input/loramodel/jiuyue925 models/Lora/\n",
    "!cp -r /kaggle/input/loramodel/berosey models/Lora/\n",
    "!ls models/Lora/"
   ]
  },
  {
   "cell_type": "code",
   "execution_count": null,
   "metadata": {},
   "outputs": [],
   "source": [
    "!python launch.py --xformers --enable-insecure-extension-access --share --gradio-queue \n"
   ]
  },
  {
   "attachments": {},
   "cell_type": "markdown",
   "metadata": {},
   "source": [
    "import os\n",
    "import zipfile\n",
    "import datetime\n",
    "\n",
    "def file2zip(in_path, output_path):\n",
    "    zip = zipfile.ZipFile(output_path, 'w', zipfile.ZIP_DEFLATED)\n",
    "    for path, directory, filenames in os.walk(in_path):\n",
    "        fpath = path.replace(in_path, \"\")\n",
    "        for name in filenames:\n",
    "            fullname = os.path.join(path, name)\n",
    "            name = fpath + '\\\\' + name\n",
    "            zip.write(fullname, name)\n",
    "    zip.close()\n",
    "    \n",
    "\n",
    "    \n",
    "in_path = \"/kaggle/working/stable-diffusion-webui/outputs/\"\n",
    "output_path = \"/kaggle/working/output.zip\"\n",
    "if os.path.exists(output_path):\n",
    "    os.remove(output_path)\n",
    "file2zip(in_path, output_path)\n",
    "print(\"package finished.\")"
   ]
  }
 ],
 "metadata": {
  "kernelspec": {
   "display_name": "Python 3",
   "language": "python",
   "name": "python3"
  },
  "language_info": {
   "name": "python",
   "version": "3.11.2"
  },
  "orig_nbformat": 4,
  "vscode": {
   "interpreter": {
    "hash": "aee8b7b246df8f9039afb4144a1f6fd8d2ca17a180786b69acc140d282b71a49"
   }
  }
 },
 "nbformat": 4,
 "nbformat_minor": 2
}
