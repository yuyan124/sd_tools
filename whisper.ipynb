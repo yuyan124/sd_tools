{
 "cells": [
  {
   "attachments": {},
   "cell_type": "markdown",
   "metadata": {},
   "source": [
    "[![Open In Colab](https://colab.research.google.com/assets/colab-badge.svg)](https://colab.research.google.com/github/yuyan124/sd_tools/blob/main/whisper.ipynb)"
   ]
  },
  {
   "cell_type": "code",
   "execution_count": null,
   "metadata": {},
   "outputs": [],
   "source": [
    "# mount drive\n",
    "from google.colab import drive\n",
    "drive.mount('/content/drive/', force_remount=True)"
   ]
  },
  {
   "cell_type": "code",
   "execution_count": null,
   "metadata": {},
   "outputs": [],
   "source": [
    "import os\n",
    "from pathlib import Path\n",
    "\n",
    "#@markdown ### **语音或影片的语言**\n",
    "language = \"zh\" #@param [\"zh\", \"en\"]\n",
    "#@markdown ### **是否将字幕翻译成英文**\n",
    "translate = False #@param {type:\"boolean\"}\n",
    "#@markdown ### **模型**\n",
    "model = \"medium\" #@param [\"tiny\", \"base\", \"small\", \"medium\", \"large\"]\n",
    "\n",
    "#@markdown ### **输入的语音或影片的路径**\n",
    "videos_dir = \"/content/drive/MyDrive/ai/whisper/videos/\" #@param {type:\"string\"}\n",
    "#@markdown ### **输出的字幕的路径**\n",
    "output = \"/content/drive/MyDrive/ai/whisper/subtitles/\" #@param {type:\"string\"}\n",
    "\n",
    "suffixes = [\".mp4\", \".mkv\", \".mp3\", \".wav\", \".acc\"]\n",
    "videos = []\n",
    "for suffix in suffixes:\n",
    "    videos.extend(Path(videos_dir).glob(f\"*{suffix}\"))\n",
    "    \n",
    "for video in videos:\n",
    "    print(f\"正在处理 {video}...\")\n",
    "    command = f'whisper {video} --language {language} --model {model} --output_dir {output}'\n",
    "    if translate:\n",
    "        command += \"--task translate\"\n",
    "    print(command)\n",
    "    os.system(command)\n",
    "\n",
    "print(\"已完成全部处理.\")"
   ]
  }
 ],
 "metadata": {
  "language_info": {
   "name": "python"
  },
  "orig_nbformat": 4
 },
 "nbformat": 4,
 "nbformat_minor": 2
}
