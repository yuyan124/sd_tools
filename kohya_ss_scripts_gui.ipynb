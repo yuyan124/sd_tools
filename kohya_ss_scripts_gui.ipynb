{
 "cells": [
  {
   "attachments": {},
   "cell_type": "markdown",
   "metadata": {},
   "source": [
    "[![Open In Colab](https://colab.research.google.com/assets/colab-badge.svg)](https://colab.research.google.com/github/yuyan124/sd_tools/blob/main/kohya_ss_scripts_gui.ipynb)"
   ]
  },
  {
   "cell_type": "code",
   "execution_count": null,
   "metadata": {},
   "outputs": [],
   "source": [
    "# GPU INFO\n",
    "!nvidia-smi\n",
    "!nvcc -V\n",
    "!free -h"
   ]
  },
  {
   "attachments": {},
   "cell_type": "markdown",
   "metadata": {},
   "source": [
    "# 安装python，可选择自己需要的版本\n",
    "!apt-get install python3.10\n",
    "!python -m pip uninstall pips\n",
    "!update-alternatives --install /usr/local/bin/python3 python3 /usr/bin/python3.10 2\n",
    "!sudo apt-get install python3.10-distutils\n",
    "!wget https://bootstrap.pypa.io/pip/get-pip.py\n",
    "!python get-pip.py\n",
    "!python --version"
   ]
  },
  {
   "cell_type": "code",
   "execution_count": null,
   "metadata": {},
   "outputs": [],
   "source": [
    "!git clone https://github.com/kohya-ss/sd-scripts.git\n",
    "!cd sd-scripts \n",
    "!pip install --upgrade -r requirements.txt \n",
    "\n",
    "!apt-get -y install -qq aria2\n",
    "!pip install --pre -U xformers\n",
    "!pip install -q --pre triton\n",
    "\n",
    "# 根据自己需要下载底模型\n",
    "!aria2c --console-log-level=error -c -x 16 -s 16 -k 1M https://civitai.com/api/download/models/11745 -d /content/models -o model.safetensors"
   ]
  },
  {
   "cell_type": "code",
   "execution_count": null,
   "metadata": {},
   "outputs": [],
   "source": [
    "# 挂载 Google Drive\n",
    "from google.colab import drive\n",
    "drive.mount('/content/drive')\n",
    "\n",
    "import os\n",
    "from distutils.dir_util import copy_tree\n",
    "\n",
    "name = \"\" # @param {type:\"string\"}\n",
    "os.makedirs(f\"/content/train/{name}\")\n",
    "copy_tree(f\"/content/drive/MyDrive/ai/{name}\", \"/content/train/\")\n"
   ]
  },
  {
   "cell_type": "code",
   "execution_count": null,
   "metadata": {},
   "outputs": [],
   "source": [
    "!git clone https://github.com/bmaltais/kohya_ss.git\n",
    "%cd kohya_ss\n",
    "\n",
    "!pip install --upgrade -r requirements.txt\n",
    "\n",
    "!python kohya_gui.py --share"
   ]
  }
 ],
 "metadata": {
  "kernelspec": {
   "display_name": "Python 3",
   "language": "python",
   "name": "python3"
  },
  "language_info": {
   "name": "python",
   "version": "3.9.13"
  },
  "orig_nbformat": 4,
  "vscode": {
   "interpreter": {
    "hash": "aee8b7b246df8f9039afb4144a1f6fd8d2ca17a180786b69acc140d282b71a49"
   }
  }
 },
 "nbformat": 4,
 "nbformat_minor": 2
}
