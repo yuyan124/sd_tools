{
 "cells": [
  {
   "attachments": {},
   "cell_type": "markdown",
   "metadata": {},
   "source": [
    "[![Open In Colab](https://colab.research.google.com/assets/colab-badge.svg)](https://colab.research.google.com/github/yuyan124/sd_tools/blob/main/kohya_dreambooth.ipynb)"
   ]
  },
  {
   "cell_type": "code",
   "execution_count": null,
   "metadata": {},
   "outputs": [],
   "source": [
    "# GPU INFO\n",
    "!nvidia-smi"
   ]
  },
  {
   "cell_type": "code",
   "execution_count": null,
   "metadata": {},
   "outputs": [],
   "source": [
    "# 安装python，可选择自己需要的版本\n",
    "!apt-get install python3.10\n",
    "!python -m pip uninstall pips\n",
    "!update-alternatives --install /usr/local/bin/python3 python3 /usr/bin/python3.10 2\n",
    "!sudo apt-get install python3.10-distutils\n",
    "!wget https://bootstrap.pypa.io/pip/get-pip.py\n",
    "!python get-pip.py\n",
    "!python --version"
   ]
  },
  {
   "cell_type": "code",
   "execution_count": null,
   "metadata": {},
   "outputs": [],
   "source": [
    "!git clone https://github.com/kohya-ss/sd-scripts.git\n",
    "!cd sd-scripts \n",
    "!pip install --upgrade -r requirements.txt \n",
    "\n",
    "!apt-get -y install -qq aria2\n",
    "!pip install --pre -U xformers\n",
    "!pip install -q --pre triton\n",
    "!aria2c --console-log-level=error -c -x 16 -s 16 -k 1M https://civitai.com/api/download/models/11745 -d /content/models -o model.safetensors"
   ]
  },
  {
   "cell_type": "code",
   "execution_count": null,
   "metadata": {},
   "outputs": [],
   "source": [
    "# 挂载 Google Drive\n",
    "from google.colab import drive\n",
    "drive.mount('/content/drive')\n",
    "!mkdir /content/train/name\n",
    "!cp -r /content/drive/MyDrive/ai/6_name /content/train/name/\n",
    "!ls /content/train/name/6_name"
   ]
  },
  {
   "cell_type": "code",
   "execution_count": null,
   "metadata": {},
   "outputs": [],
   "source": [
    "def run_script(s):\n",
    "    ! {s}\n",
    "\n",
    "def make_args(d):\n",
    "    arguments = \"\"\n",
    "    for k, v in d.items():\n",
    "        if type(v) == bool:\n",
    "            arguments += f\"--{k} \" if v else \"\"\n",
    "        elif type(v) == str and v:\n",
    "            arguments += f\"--{k} \\\"{v}\\\" \"\n",
    "        elif v:\n",
    "            arguments += f\"--{k}={v} \"\n",
    "    return arguments\n",
    "\n",
    "name = \"\"\n",
    "\n",
    "arguments = {\n",
    "    \"enable_bucket\": True,\n",
    "    \"pretrained_model\" : \"./sd-models/model.safetensors\", # base model path | 底模路径\n",
    "    \"train_data_dir\" : f\"./train/{name}\", # train dataset path | 训练数据集路径\n",
    "    \"output_dir\" : \"/content/drive/MyDrive/ai/outputs\",\n",
    "    \"logging_dir\" : \"./logs\",\n",
    "\n",
    "    # Train related params | 训练相关参数\n",
    "    \"resolution\" : \"512,512\", # image resolution w,h. 图片分辨率，宽,高。支持非正方形，但必须是 64 倍数。\n",
    "    \"newwork_module\": \"networks.lora\",\n",
    "    \"max_train_epochs\" : 20, # max train epoches | 最大训练 epoch\n",
    "    \"train_batch_size\" : 1, # batch size\n",
    "    \"save_every_n_epochs\" : 2, # save every n epochs | 每 N 个 epoch 保存一次\n",
    "    \"network_dim\" : 32, # network dim | 常用 4~128，不是越大越好\n",
    "    \"network_alpha\": 32, # network alpha | 常用与 network_dim 相同的值或者采用较小的值，如 network_dim的一半 防止下溢。默认值为 1，使用较小的 alpha 需要提升学习率。\n",
    "    \"clip_skip\" : 2, # clip skip | 玄学 一般用 2\n",
    "    \"train_unet_only\" : 0, # train U-Net only | 仅训练 U-Net，开启这个会牺牲效果大幅减少显存使用。6G显存可以开启\n",
    "    \"train_text_encoder_only\" : 0, # train Text Encoder only | 仅训练 文本编码器\n",
    "    \"mixed_precision\": \"fp16\",\n",
    "    \"save_precision\": \"fp16\",\n",
    "    \"seed\": \"-1\",\n",
    "    \"cache_latents\": True,\n",
    "    \"prior_loss_weight\": 1,\n",
    "    \"max_token_length\": 255,\n",
    "    \"caption_extension\": \".txt\",\n",
    "    \"min_bucket_reso\": 256,\n",
    "    \"max_bucket_reso\": 1024,\n",
    "\n",
    "    # Learning rate | 学习率\n",
    "    \"learning_rate\" : \"1e-4\",\n",
    "    \"unet_lr\" : \"1e-4\",\n",
    "    \"text_encoder_lr\" : \"1e-5\",\n",
    "    \"lr_scheduler\" : \"cosine_with_restarts\", # \"linear\", \"cosine\", \"cosine_with_restarts\", \"polynomial\", \"constant\", \"constant_with_warmup\"\n",
    "    \"lr_warmup_steps\": 0,\n",
    "\n",
    "    \"xformers\": True,\n",
    "    \"shuffile_caption\": True,\n",
    "    \"use_8bit_adam\": True,\n",
    "\n",
    "    # Output settings | 输出设置\n",
    "    \"output_name\" : name, # output model name | 模型保存名称\n",
    "    \"save_model_as\" : \"safetensors\" # model save ext | 模型保存格式 ckpt, pt, safetensors\n",
    "  \n",
    "}\n",
    "\n",
    "run_script(f\"\"\"\n",
    "accelerate launch --num_cpu_threads_per_process=8 \"train_network.py\" {make_args(arguments)} --network_module=networks.lora \n",
    "\"\"\")"
   ]
  }
 ],
 "metadata": {
  "kernelspec": {
   "display_name": "Python 3",
   "language": "python",
   "name": "python3"
  },
  "language_info": {
   "name": "python",
   "version": "3.9.13"
  },
  "orig_nbformat": 4,
  "vscode": {
   "interpreter": {
    "hash": "aee8b7b246df8f9039afb4144a1f6fd8d2ca17a180786b69acc140d282b71a49"
   }
  }
 },
 "nbformat": 4,
 "nbformat_minor": 2
}
